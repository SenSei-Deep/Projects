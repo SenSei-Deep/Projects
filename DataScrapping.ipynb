{
 "cells": [
  {
   "cell_type": "code",
   "execution_count": 1,
   "metadata": {},
   "outputs": [
    {
     "name": "stdout",
     "output_type": "stream",
     "text": [
      "Sample data saved to 'exhibitors_sample.csv'\n"
     ]
    }
   ],
   "source": [
    "import requests\n",
    "from bs4 import BeautifulSoup\n",
    "import pandas as pd\n",
    "\n",
    "# URL of the tradeshow exhibitor list\n",
    "url = \"https://meetings.ausa.org/annual/2024/exhibitor_exhibitor_list.cfm\"\n",
    "\n",
    "# Send a request to the URL\n",
    "response = requests.get(url)\n",
    "\n",
    "# Check if the request was successful\n",
    "if response.status_code == 200:\n",
    "    soup = BeautifulSoup(response.text, 'html.parser')\n",
    "\n",
    "    # Find the exhibitor entries\n",
    "    exhibitors = soup.find_all('div', class_='exhibitor-entry')  # Adjust class based on actual HTML structure\n",
    "    data = []\n",
    "\n",
    "    for exhibitor in exhibitors[:10]:  # Limit to 10 exhibitors\n",
    "        company_name = exhibitor.find('h3').text.strip()  # Example, adjust selector as needed\n",
    "        location = exhibitor.find('span', class_='location').text.strip()  # Adjust selector\n",
    "        \n",
    "        # Get details from the popup or detail link if available\n",
    "        details_link = exhibitor.find('a', class_='details-link')['href']  # Adjust selector\n",
    "        details_response = requests.get(details_link)\n",
    "        details_soup = BeautifulSoup(details_response.text, 'html.parser')\n",
    "\n",
    "        # Extract categories, description, and contact info\n",
    "        categories = details_soup.find_all('div', class_='category')  # Adjust selector\n",
    "        categories_list = [cat.text.strip() for cat in categories]\n",
    "\n",
    "        description = details_soup.find('div', class_='description').text.strip()  # Adjust selector\n",
    "        \n",
    "        contact_info = details_soup.find('div', class_='contact-info')  # Adjust selector\n",
    "        first_name = contact_info.find('span', class_='first-name').text.strip()  # Adjust selector\n",
    "        last_name = contact_info.find('span', class_='last-name').text.strip()  # Adjust selector\n",
    "        function = contact_info.find('span', class_='function').text.strip()  # Adjust selector\n",
    "        address = contact_info.find('span', class_='address').text.strip()  # Adjust selector\n",
    "        \n",
    "        website = exhibitor.find('a', class_='website')['href']  # Adjust selector\n",
    "\n",
    "        # Append the data\n",
    "        data.append({\n",
    "            'Company Name': company_name,\n",
    "            'Location': location,\n",
    "            'Categories': categories_list,\n",
    "            'Description': description,\n",
    "            'First Name': first_name,\n",
    "            'Last Name': last_name,\n",
    "            'Function': function,\n",
    "            'Address': address,\n",
    "            'Website': website\n",
    "        })\n",
    "\n",
    "    # Create a DataFrame for easier manipulation and export\n",
    "    df = pd.DataFrame(data)\n",
    "    \n",
    "    # Save to CSV for easy review\n",
    "    df.to_csv(r'C:\\Users\\dggup\\Desktop\\exhibitors_sample.csv', index=False)\n",
    "    print(\"Sample data saved to 'exhibitors_sample.csv'\")\n",
    "else:\n",
    "    print(f\"Failed to retrieve the page, status code: {response.status_code}\")\n"
   ]
  },
  {
   "cell_type": "code",
   "execution_count": null,
   "metadata": {},
   "outputs": [],
   "source": []
  }
 ],
 "metadata": {
  "kernelspec": {
   "display_name": "Python 3",
   "language": "python",
   "name": "python3"
  },
  "language_info": {
   "codemirror_mode": {
    "name": "ipython",
    "version": 3
   },
   "file_extension": ".py",
   "mimetype": "text/x-python",
   "name": "python",
   "nbconvert_exporter": "python",
   "pygments_lexer": "ipython3",
   "version": "3.11.9"
  }
 },
 "nbformat": 4,
 "nbformat_minor": 2
}

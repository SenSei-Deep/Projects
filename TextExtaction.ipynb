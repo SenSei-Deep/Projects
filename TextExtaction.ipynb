{
 "cells": [
  {
   "cell_type": "code",
   "execution_count": 1,
   "metadata": {},
   "outputs": [
    {
     "ename": "error",
     "evalue": "OpenCV(4.10.0) D:\\a\\opencv-python\\opencv-python\\opencv\\modules\\imgproc\\src\\color.cpp:196: error: (-215:Assertion failed) !_src.empty() in function 'cv::cvtColor'\n",
     "output_type": "error",
     "traceback": [
      "\u001b[1;31m---------------------------------------------------------------------------\u001b[0m",
      "\u001b[1;31merror\u001b[0m                                     Traceback (most recent call last)",
      "Cell \u001b[1;32mIn[1], line 13\u001b[0m\n\u001b[0;32m      9\u001b[0m image_path \u001b[38;5;241m=\u001b[39m \u001b[38;5;124mr\u001b[39m\u001b[38;5;124m'\u001b[39m\u001b[38;5;124mC:\u001b[39m\u001b[38;5;124m\\\u001b[39m\u001b[38;5;124mUsers\u001b[39m\u001b[38;5;124m\\\u001b[39m\u001b[38;5;124mdggup\u001b[39m\u001b[38;5;124m\\\u001b[39m\u001b[38;5;124mDesktop\u001b[39m\u001b[38;5;124m\\\u001b[39m\u001b[38;5;124ma georgian protocol3.jpg\u001b[39m\u001b[38;5;124m'\u001b[39m  \u001b[38;5;66;03m# Use raw string\u001b[39;00m\n\u001b[0;32m     10\u001b[0m image \u001b[38;5;241m=\u001b[39m cv2\u001b[38;5;241m.\u001b[39mimread(image_path)\n\u001b[1;32m---> 13\u001b[0m gray_image \u001b[38;5;241m=\u001b[39m \u001b[43mcv2\u001b[49m\u001b[38;5;241;43m.\u001b[39;49m\u001b[43mcvtColor\u001b[49m\u001b[43m(\u001b[49m\u001b[43mimage\u001b[49m\u001b[43m,\u001b[49m\u001b[43m \u001b[49m\u001b[43mcv2\u001b[49m\u001b[38;5;241;43m.\u001b[39;49m\u001b[43mCOLOR_BGR2GRAY\u001b[49m\u001b[43m)\u001b[49m\n\u001b[0;32m     15\u001b[0m _, thresh_image \u001b[38;5;241m=\u001b[39m cv2\u001b[38;5;241m.\u001b[39mthreshold(gray_image, \u001b[38;5;241m150\u001b[39m, \u001b[38;5;241m255\u001b[39m, cv2\u001b[38;5;241m.\u001b[39mTHRESH_BINARY)\n\u001b[0;32m     17\u001b[0m custom_config \u001b[38;5;241m=\u001b[39m \u001b[38;5;124mr\u001b[39m\u001b[38;5;124m'\u001b[39m\u001b[38;5;124m--oem 3 --psm 6 -l kat\u001b[39m\u001b[38;5;124m'\u001b[39m  \n",
      "\u001b[1;31merror\u001b[0m: OpenCV(4.10.0) D:\\a\\opencv-python\\opencv-python\\opencv\\modules\\imgproc\\src\\color.cpp:196: error: (-215:Assertion failed) !_src.empty() in function 'cv::cvtColor'\n"
     ]
    }
   ],
   "source": [
    "\n",
    "import cv2\n",
    "import pytesseract\n",
    "import pandas as pd\n",
    "import re  \n",
    "\n",
    "pytesseract.pytesseract.tesseract_cmd = r'C:\\Program Files\\Tesseract-OCR\\tesseract.exe' \n",
    "\n",
    "# Load the JPG image using OpenCV\n",
    "image_path = r'C:\\Users\\dggup\\Desktop\\a georgian protocol3.jpg'  # Use raw string\n",
    "image = cv2.imread(image_path)\n",
    "\n",
    "\n",
    "gray_image = cv2.cvtColor(image, cv2.COLOR_BGR2GRAY)\n",
    "\n",
    "_, thresh_image = cv2.threshold(gray_image, 150, 255, cv2.THRESH_BINARY)\n",
    "\n",
    "custom_config = r'--oem 3 --psm 6 -l kat'  \n",
    "text = pytesseract.image_to_string(thresh_image, config=custom_config)\n",
    "print(\"Extracted Text:\")\n",
    "print(text)\n",
    "\n",
    "output_file_path = r'C:\\Users\\dggup\\Desktop\\extracted_text.txt' \n",
    "with open(output_file_path, 'w', encoding='utf-8') as file:\n",
    "    file.write(text)\n",
    "\n",
    "data = []\n",
    "lines = text.strip().split('\\n')  \n",
    "for line in lines:\n",
    "    line = line.strip()\n",
    "\n",
    "    if line:\n",
    "        match = re.findall(r'([^\\d]+)(\\d+)', line)\n",
    "        for text_part, number_part in match:\n",
    "            data.append((text_part.strip(), number_part.strip()))\n",
    "\n",
    "df = pd.DataFrame(data, columns=['Text', 'Numbers'])\n",
    "\n",
    "# Print the DataFrame\n",
    "print(\"\\nTabulated Data:\")\n",
    "print(df)\n",
    "\n",
    "# Save the DataFrame to a .csv file\n",
    "csv_output_path = r'C:\\Users\\dggup\\Desktop\\extracted_data.csv'  # Specify CSV output file path\n",
    "df.to_csv(csv_output_path, index=False, encoding='utf-8')\n",
    "\n",
    "print(f\"Extracted text saved to: {output_file_path}\")\n",
    "print(f\"Extracted data saved to: {csv_output_path}\")\n",
    "\n",
    " "
   ]
  },
  {
   "cell_type": "code",
   "execution_count": null,
   "metadata": {},
   "outputs": [],
   "source": []
  }
 ],
 "metadata": {
  "kernelspec": {
   "display_name": "Python 3",
   "language": "python",
   "name": "python3"
  },
  "language_info": {
   "codemirror_mode": {
    "name": "ipython",
    "version": 3
   },
   "file_extension": ".py",
   "mimetype": "text/x-python",
   "name": "python",
   "nbconvert_exporter": "python",
   "pygments_lexer": "ipython3",
   "version": "3.11.9"
  }
 },
 "nbformat": 4,
 "nbformat_minor": 2
}
